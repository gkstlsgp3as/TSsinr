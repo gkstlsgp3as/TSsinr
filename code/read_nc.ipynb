{
 "cells": [
  {
   "cell_type": "code",
   "execution_count": null,
   "id": "efc4eb0e",
   "metadata": {},
   "outputs": [
    {
     "ename": "",
     "evalue": "",
     "output_type": "error",
     "traceback": [
      "\u001b[1;31mRunning cells with 'sinr (Python 3.9.0)' requires the ipykernel package.\n",
      "\u001b[1;31m<a href='command:jupyter.createPythonEnvAndSelectController'>Create a Python Environment</a> with the required packages.\n",
      "\u001b[1;31mOr install 'ipykernel' using the command: 'conda install -n sinr ipykernel --update-deps --force-reinstall'"
     ]
    }
   ],
   "source": [
    "import netCDF4\n",
    "import numpy as np\n",
    "from datetime import datetime, timedelta\n",
    "\n"
   ]
  },
  {
   "cell_type": "code",
   "execution_count": null,
   "id": "ce03b3aa",
   "metadata": {},
   "outputs": [],
   "source": [
    "# 파일 열기\n",
    "ds = netCDF4.Dataset(\"/home/data/INTERP/data/GK2B_GOCI2_L2_20250407_024349_FD_S015_G134_Chl.nc\")\n",
    "\n"
   ]
  },
  {
   "cell_type": "code",
   "execution_count": null,
   "id": "f2ac5a20",
   "metadata": {},
   "outputs": [],
   "source": [
    "# 시작, 종료 시간 읽기 (예시)\n",
    "start_time = datetime.strptime(ds.getncattr(\"Start_Time\"), \"%Y-%m-%dT%H:%M:%SZ\")\n",
    "end_time = datetime.strptime(ds.getncattr(\"End_Time\"), \"%Y-%m-%dT%H:%M:%SZ\")"
   ]
  },
  {
   "cell_type": "code",
   "execution_count": null,
   "id": "d6e39146",
   "metadata": {},
   "outputs": [],
   "source": [
    "# 이미지 크기\n",
    "W = ds[\"longitude\"].shape[1]  # width\n",
    "H = ds[\"longitude\"].shape[0]  # height\n",
    "\n",
    "# 선형 보간된 시간 필드 (가로축 기준)\n",
    "scan_times = np.linspace(start_time.timestamp(), end_time.timestamp(), W)\n",
    "scan_times = np.tile(scan_times, (H, 1))  # shape: (H, W)"
   ]
  }
 ],
 "metadata": {
  "kernelspec": {
   "display_name": "sinr",
   "language": "python",
   "name": "python3"
  },
  "language_info": {
   "name": "python",
   "version": "3.9.0"
  }
 },
 "nbformat": 4,
 "nbformat_minor": 5
}
